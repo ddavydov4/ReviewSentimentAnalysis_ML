{
  "nbformat": 4,
  "nbformat_minor": 0,
  "metadata": {
    "colab": {
      "provenance": []
    },
    "kernelspec": {
      "name": "python3",
      "display_name": "Python 3"
    },
    "language_info": {
      "name": "python"
    }
  },
  "cells": [
    {
      "cell_type": "code",
      "execution_count": 2,
      "metadata": {
        "id": "4p4FuFFDW8WK"
      },
      "outputs": [],
      "source": [
        "import pandas as pd\n",
        "import numpy as np\n",
        "import openpyxl\n",
        "from sklearn.model_selection import train_test_split\n",
        "from sklearn.feature_extraction.text import TfidfVectorizer\n",
        "from sklearn.linear_model import LogisticRegression\n",
        "from sklearn.pipeline import Pipeline\n",
        "from sklearn.metrics import accuracy_score\n",
        "from sklearn.tree import DecisionTreeClassifier \n",
        "from sklearn.model_selection import GridSearchCV\n",
        "from sklearn.ensemble import RandomForestClassifier\n",
        "from sklearn.svm import SVC"
      ]
    },
    {
      "cell_type": "code",
      "source": [
        "df = pd.read_excel('doc_comment_summary.xlsx', header=None)\n",
        "df.columns = ['Комментарий', 'Тональность']\n",
        "print(df)"
      ],
      "metadata": {
        "id": "nFjJaxijXBS3"
      },
      "execution_count": null,
      "outputs": []
    },
    {
      "cell_type": "code",
      "source": [
        "print(df.describe())"
      ],
      "metadata": {
        "id": "ptHiM5gJXDL8"
      },
      "execution_count": null,
      "outputs": []
    },
    {
      "cell_type": "code",
      "source": [
        "print(df.info())"
      ],
      "metadata": {
        "id": "6OIIEqyvXEv6"
      },
      "execution_count": null,
      "outputs": []
    },
    {
      "cell_type": "code",
      "source": [
        "df.dropna(inplace=True)"
      ],
      "metadata": {
        "id": "rbxH9qeYXHac"
      },
      "execution_count": null,
      "outputs": []
    },
    {
      "cell_type": "code",
      "source": [
        "print(df.info())"
      ],
      "metadata": {
        "id": "2CQaftKXXJb1"
      },
      "execution_count": null,
      "outputs": []
    },
    {
      "cell_type": "code",
      "source": [
        "df = df[(df['Тональность'] != 0) & (df['Тональность'].apply(type) == int)]\n",
        "df['Положительная тональность'] = (df['Тональность'] > 0).astype(bool)\n",
        "print(df)"
      ],
      "metadata": {
        "id": "d2vbme-qXLan"
      },
      "execution_count": null,
      "outputs": []
    },
    {
      "cell_type": "code",
      "source": [
        "value_counts = df['Положительная тональность'].value_counts()\n",
        "true_count = value_counts[True]\n",
        "false_count = value_counts[False]\n",
        "ratio = true_count / false_count\n",
        "print(ratio)"
      ],
      "metadata": {
        "id": "15j2BQ7MXSEz"
      },
      "execution_count": null,
      "outputs": []
    },
    {
      "cell_type": "code",
      "source": [
        "train_data, test_data, train_labels, test_labels = train_test_split(\n",
        "    df['Комментарий'], df['Положительная тональность'], test_size=0.9, random_state=2023)\n",
        "train_data = train_data.astype(str)\n",
        "test_data = test_data.astype(str)\n",
        "train_labels = train_labels.astype(str)\n",
        "test_labels = test_labels.astype(str)\n",
        "print(test_labels)"
      ],
      "metadata": {
        "id": "Fs4eI2ZWXsaO"
      },
      "execution_count": null,
      "outputs": []
    },
    {
      "cell_type": "code",
      "source": [
        "pipeline = Pipeline([\n",
        "    ('vect', TfidfVectorizer()),\n",
        "    ('clf', LogisticRegression())\n",
        "])\n",
        "\n",
        "# Обучение модели на всей тренировочной выборке\n",
        "pipeline.fit(train_data, train_labels)\n",
        "\n",
        "# Применение модели к тестовой выборке\n",
        "predicted_labels = pipeline.predict(test_data)\n",
        "\n",
        "# Вычисление значения метрики правильности\n",
        "accuracy = accuracy_score(test_labels, predicted_labels)\n",
        "print(\"Точность:\", accuracy)"
      ],
      "metadata": {
        "id": "y87ec6d4Xxpz"
      },
      "execution_count": null,
      "outputs": []
    },
    {
      "cell_type": "code",
      "source": [
        "pipeline = Pipeline([\n",
        "    ('vect', TfidfVectorizer()),\n",
        "    ('clf', DecisionTreeClassifier())\n",
        "])\n",
        "\n",
        "# Обучение модели на всей тренировочной выборке\n",
        "pipeline.fit(train_data, train_labels)\n",
        "\n",
        "# Применение модели к тестовой выборке\n",
        "predicted_labels = pipeline.predict(test_data)\n",
        "\n",
        "# Вычисление значения метрики правильности\n",
        "accuracy = accuracy_score(test_labels, predicted_labels)\n",
        "print(\"Точность:\", accuracy)"
      ],
      "metadata": {
        "id": "XjXK9IBtX0b5"
      },
      "execution_count": null,
      "outputs": []
    },
    {
      "cell_type": "code",
      "source": [
        "param_grid = {\n",
        "    'tfidf__ngram_range': [(1, 1), (1, 2), (2, 2)],\n",
        "    'tfidf__max_df': [0.5, 0.75, 1.0],\n",
        "    'tfidf__min_df': [1, 2, 3]\n",
        "}\n",
        "\n",
        "# задаем токенизатор-векторизатор и модель\n",
        "tfidf = TfidfVectorizer(stop_words='english')\n",
        "lr = LogisticRegression()\n",
        "\n",
        "# задаем пайплайн для перебора параметров с помощью GridSearchCV\n",
        "pipeline = Pipeline([\n",
        "    ('tfidf', tfidf),\n",
        "    ('lr', lr)\n",
        "])\n",
        "\n",
        "# запускаем поиск лучших параметров с помощью кросс-валидации на тренировочной выборке\n",
        "grid_search = GridSearchCV(pipeline, param_grid=param_grid, cv=5, n_jobs=-1, verbose=1)\n",
        "grid_search.fit(train_data, train_labels)\n",
        "\n",
        "# выводим результаты\n",
        "print(\"Best parameters:\", grid_search.best_params_)\n",
        "print(\"Best score:\", grid_search.best_score_)\n",
        "\n",
        "# вычисляем качество модели на отложенной выборке с лучшими параметрами\n",
        "best_model = grid_search.best_estimator_\n",
        "test_pred = best_model.predict(test_data)\n",
        "test_acc = accuracy_score(test_labels, test_pred)\n",
        "print(\"Test accuracy:\", test_acc)"
      ],
      "metadata": {
        "id": "huXB7MigX3wV"
      },
      "execution_count": null,
      "outputs": []
    },
    {
      "cell_type": "code",
      "source": [
        "param_grid_rf = {\n",
        "    'tfidf__ngram_range': [(1, 1), (1, 2), (2, 2)],\n",
        "    'tfidf__max_df': [0.5, 0.75, 1.0],\n",
        "    'tfidf__min_df': [1, 2, 3],\n",
        "    'rf__n_estimators': [50, 100, 200],\n",
        "    'rf__max_depth': [10, 20, 30, None]\n",
        "}\n",
        "\n",
        "# задаем сетку параметров для TfidfVectorizer и SVC\n",
        "param_grid_svm = {\n",
        "    'tfidf__ngram_range': [(1, 1), (1, 2), (2, 2)],\n",
        "    'tfidf__max_df': [0.5, 0.75, 1.0],\n",
        "    'tfidf__min_df': [1, 2, 3],\n",
        "    'svm__C': [0.1, 1, 10, 100],\n",
        "    'svm__gamma': ['scale', 'auto']\n",
        "}\n",
        "\n",
        "# задаем токенизатор-векторизатор и модели\n",
        "tfidf = TfidfVectorizer(stop_words='english')\n",
        "rf = RandomForestClassifier()\n",
        "svm = SVC()\n",
        "\n",
        "# задаем пайплайн для перебора параметров с помощью GridSearchCV\n",
        "pipeline_rf = Pipeline([\n",
        "    ('tfidf', tfidf),\n",
        "    ('rf', rf)\n",
        "])\n",
        "\n",
        "pipeline_svm = Pipeline([\n",
        "    ('tfidf', tfidf),\n",
        "    ('svm', svm)\n",
        "])\n",
        "\n",
        "# запускаем поиск лучших параметров с помощью кросс-валидации на тренировочной выборке\n",
        "grid_search_rf = GridSearchCV(pipeline_rf, param_grid=param_grid_rf, cv=5, n_jobs=-1, verbose=1)\n",
        "grid_search_rf.fit(train_data, train_labels)\n",
        "\n",
        "grid_search_svm = GridSearchCV(pipeline_svm, param_grid=param_grid_svm, cv=5, n_jobs=-1, verbose=1)\n",
        "grid_search_svm.fit(train_data, train_labels)\n",
        "\n",
        "# выводим результаты\n",
        "print(\"Best parameters for RandomForestClassifier:\", grid_search_rf.best_params_)\n",
        "print(\"Best score for RandomForestClassifier:\", grid_search_rf.best_score_)\n",
        "\n",
        "print(\"Best parameters for SVM:\", grid_search_svm.best_params_)\n",
        "print(\"Best score for SVM:\", grid_search_svm.best_score_)\n",
        "\n",
        "# вычисляем качество моделей на отложенной выборке с лучшими параметрами\n",
        "best_model_rf = grid_search_rf.best_estimator_\n",
        "test_pred_rf = best_model_rf.predict(test_data)\n",
        "test_acc_rf = accuracy_score(test_labels, test_pred_rf)\n",
        "print(\"Test accuracy for RandomForestClassifier:\", test_acc_rf)\n",
        "\n",
        "best_model_svm = grid_search_svm.best_estimator_\n",
        "test_pred_svm = best_model_svm.predict(test_data)\n",
        "test_acc_svm = accuracy_score(test_labels, test_pred_svm)\n",
        "print(\"Test accuracy for SVM:\", test_acc_svm)"
      ],
      "metadata": {
        "id": "3zcwhqOdX91y"
      },
      "execution_count": null,
      "outputs": []
    },
    {
      "cell_type": "code",
      "source": [
        "pd.set_option('display.max_colwidth', None)\n",
        "results = pd.DataFrame({\n",
        "    'model': ['Random Forest', 'SVM'],\n",
        "    'best parameters': [grid_search_rf.best_params_, grid_search_svm.best_params_],\n",
        "    'best score': [grid_search_rf.best_score_, grid_search_svm.best_score_],\n",
        "    'test accuracy': [test_acc_rf, test_acc_svm]\n",
        "})\n",
        "print(results)"
      ],
      "metadata": {
        "id": "36t6h0bvYA29"
      },
      "execution_count": null,
      "outputs": []
    }
  ]
}